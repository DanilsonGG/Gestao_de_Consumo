{
  "nbformat": 4,
  "nbformat_minor": 0,
  "metadata": {
    "colab": {
      "provenance": [],
      "include_colab_link": true
    },
    "kernelspec": {
      "name": "python3",
      "display_name": "Python 3"
    },
    "language_info": {
      "name": "python"
    }
  },
  "cells": [
    {
      "cell_type": "markdown",
      "metadata": {
        "id": "view-in-github",
        "colab_type": "text"
      },
      "source": [
        "<a href=\"https://colab.research.google.com/github/DanilsonGG/Grupo-3/blob/main/Gest%C3%A3o_consumos_de_%C3%A1gua_e_energia_.ipynb\" target=\"_parent\"><img src=\"https://colab.research.google.com/assets/colab-badge.svg\" alt=\"Open In Colab\"/></a>"
      ]
    },
    {
      "cell_type": "markdown",
      "source": [
        "<img src=\"https://th.bing.com/th/id/R.a0f2fedcf441568ef0aab06aa35b5396?rik=fKm3Fa29AV3XCA&riu=http%3a%2f%2fwww.ipmaia.pt%2fSiteCollectionImages%2flogo_ipmaia_site_logo_ipmaia_small.png&ehk=V%2frBHqmSxtTv0TdlxudopfsjuG%2b5kbB8uHM58ZwCer4%3d&risl=&pid=ImgRaw&r=0\" alt=\"Logo\" width=\"250\">\n",
        "\n",
        "Tenologia de Informação, Web e Multimédia\n",
        "\n",
        "Metodologias Ágeis de Desenvolvimento de Software\n",
        "# Gestão de Consumo de Água, Energia e Gás\n",
        "\n",
        "## 📌 Sobre o Projeto\n",
        "\n",
        "Este projeto tem como objetivo desenvolver um **monitoramento e gestão do consumo de água, energia elétrica e gás** em residências.\n",
        "\n",
        "Oferece as seguintes funcionalidades:\n",
        "\n",
        "-**Cadastro de residências** com informações detalhadas como localização (latitude e longitude), morada e certificado energético;\n",
        "\n",
        "**Registro de consumo mensal** de:\n",
        "  - Água (em **litros**),\n",
        "  - Energia (em **kWh**),\n",
        "  - Gás (em **m³**);\n",
        "\n",
        "**Associação de identificadores**:\n",
        "  - **CPE** (Código de Ponto de Energia),\n",
        "  - **CUI** (Código Universal de Instalação),\n",
        "  - **Contador de Água**;\n",
        "\n",
        "-**Geração de relatórios** detalhados por residência e um relatório geral com dados de consumo e custo;\n",
        "\n",
        "-**Verificação da integridade dos dados**, garantindo entradas válidas;\n",
        "\n",
        "\n",
        "**Data de inicio: 25/03/2025**\n",
        "\n",
        "**David Duarte, Wilker Lopes, Danilson Gonçalves, Rafael Fortes**\n",
        "\n",
        "\n"
      ],
      "metadata": {
        "id": "QgqbX3HLGyye"
      }
    },
    {
      "cell_type": "markdown",
      "source": [
        "##Instalação de Bibliotecas\n",
        "\n",
        "Antes de iniciar o sistema, instalamos a biblioteca tabulate, que será usada para exibir os relatórios em formato de tabela, de forma organizada e legível.\n"
      ],
      "metadata": {
        "id": "c1NTd1vbx8pm"
      }
    },
    {
      "cell_type": "code",
      "source": [
        "!pip install tabulate\n",
        "import pandas as pd\n",
        "from datetime import datetime\n",
        "from tabulate import tabulate"
      ],
      "metadata": {
        "colab": {
          "base_uri": "https://localhost:8080/"
        },
        "id": "JgdiXAZ8xuE8",
        "outputId": "0112cc3d-effd-4f6f-f83e-0e16967505fe"
      },
      "execution_count": null,
      "outputs": [
        {
          "output_type": "stream",
          "name": "stdout",
          "text": [
            "Requirement already satisfied: tabulate in /usr/local/lib/python3.11/dist-packages (0.9.0)\n"
          ]
        }
      ]
    },
    {
      "cell_type": "markdown",
      "source": [
        "##Classe Casa\n",
        "\n",
        "Esta classe representa uma residência no sistema. Ao criar uma nova instância, ela armazena:\n",
        "\n",
        "- Informações de localização (latitude e longitude);\n",
        "- Morada (endereço completo);\n",
        "- Certificado energético;\n",
        "- Descrição da casa;\n",
        "- Registros de consumo de água, energia e gás.\n",
        "- Registrar novos consumos com unidade e custo;\n",
        "- Gerar os dados da casa em formato de relatório.\n",
        "\n"
      ],
      "metadata": {
        "id": "wan1tiosW6DY"
      }
    },
    {
      "cell_type": "code",
      "source": [
        "class Casa:\n",
        "    def __init__(self, id, latitude, longitude, morada, certificado_energetico, descricao):\n",
        "        self.id = id\n",
        "        self.latitude = latitude\n",
        "        self.longitude = longitude\n",
        "        self.morada = morada\n",
        "        self.certificado_energetico = certificado_energetico\n",
        "        self.descricao = descricao\n",
        "        self.consumo_agua = []\n",
        "        self.consumo_energia = []\n",
        "        self.consumo_gas = []\n",
        "\n",
        "    def registrar_consumo(self, tipo, periodo, valor, custo):\n",
        "        unidades = {'agua': 'L', 'energia': 'kWh', 'gas': 'm³'}\n",
        "        if tipo not in unidades:\n",
        "            print(f\"Erro: Tipo de consumo '{tipo}' inválido!\")\n",
        "            return False\n",
        "\n",
        "        lista = getattr(self, f'consumo_{tipo}')\n",
        "        for c in lista:\n",
        "            if c['Periodo'] == periodo:\n",
        "                print(f\"Erro: Já existe consumo de {tipo} para {periodo}\")\n",
        "                return False\n",
        "\n",
        "        lista.append({\n",
        "            'Periodo': periodo,\n",
        "            'Valor': round(valor, 2),\n",
        "            'Unidade': unidades[tipo],\n",
        "            'Custo': round(custo, 2)\n",
        "        })\n",
        "        return True\n",
        "\n",
        "    def total_por_tipo(self, tipo):\n",
        "        lista = getattr(self, f'consumo_{tipo}')\n",
        "        total_valor = sum(c['Valor'] for c in lista)\n",
        "        total_custo = sum(c['Custo'] for c in lista)\n",
        "        return total_valor, total_custo\n",
        "\n",
        "    def periodo_maior_gasto(self, tipo):\n",
        "        lista = getattr(self, f'consumo_{tipo}')\n",
        "        if not lista:\n",
        "            return \"Nenhum\"\n",
        "        maior = max(lista, key=lambda x: x['Custo'])\n",
        "        return maior['Periodo']\n",
        "\n",
        "    def gerar_relatorio(self):\n",
        "        info = [\n",
        "            [\"ID\", self.id],\n",
        "            [\"Descrição\", self.descricao],\n",
        "            [\"Morada\", self.morada],\n",
        "            [\"Certificado\", self.certificado_energetico],\n",
        "            [\"Localização\", f\"{self.latitude}, {self.longitude}\"]\n",
        "        ]\n",
        "        return info, self.consumo_agua, self.consumo_energia, self.consumo_gas\n"
      ],
      "metadata": {
        "id": "qQOwwWS3Hzj8"
      },
      "execution_count": null,
      "outputs": []
    },
    {
      "cell_type": "markdown",
      "source": [
        "##Classe ControladorCasas\n",
        "\n",
        "É a classe que gerencia todas as casas cadastradas no sistema.\n",
        "\n",
        "Com ela é possível:\n",
        "- Adicionar novas casas com verificação de dados;\n",
        "- Registrar consumo mensal;\n",
        "- Listar os consumos de cada tipo por casa;\n",
        "- Gerar relatórios de cada residência;\n"
      ],
      "metadata": {
        "id": "pfUMrEv6XFw7"
      }
    },
    {
      "cell_type": "code",
      "source": [
        "class ControladorCasas:\n",
        "    def __init__(self):\n",
        "        self.casas = {}\n",
        "        self.validador = Validador()\n",
        "        self.tabelas = GeradorTabelas()\n",
        "\n",
        "    def adicionar_casa(self, id, latitude, longitude, morada, certificado, descricao):\n",
        "        if not self.validador.validar_casa(id, latitude, longitude, certificado):\n",
        "            return False\n",
        "        if id in self.casas:\n",
        "            print(f\"Erro: Casa {id} já existe!\")\n",
        "            return False\n",
        "        self.casas[id] = Casa(id, latitude, longitude, morada, certificado, descricao)\n",
        "        return True\n",
        "\n",
        "    def registrar_consumo(self, id, tipo, periodo, valor, custo):\n",
        "        if not self.validador.validar_consumo(tipo, periodo, valor, custo):\n",
        "            print(f\"Atenção: dados inválidos foram inseridos em {tipo.upper()} - {periodo}, mas serão registrados.\")\n",
        "        if id not in self.casas:\n",
        "            print(f\"Erro: Casa {id} não encontrada!\")\n",
        "            return False\n",
        "        return self.casas[id].registrar_consumo(tipo, periodo, valor, custo)\n",
        "\n",
        "    def listar_consumo(self, casa_id, tipo):\n",
        "        if casa_id not in self.casas:\n",
        "            print(f\"Erro: Casa {casa_id} não encontrada!\")\n",
        "            return False\n",
        "        consumos = getattr(self.casas[casa_id], f'consumo_{tipo}')\n",
        "        self.tabelas.cabecalho(f\"CONSUMO DE {tipo.upper()} - CASA {casa_id}\")\n",
        "        self.tabelas.tabela_consumo(consumos)\n",
        "        return True\n",
        "\n",
        "    def gerar_relatorio_geral(self):\n",
        "        headers = [\"ID\", \"Morada\", \"Certificado\",\n",
        "                   \"Água (L)\", \"Custo Água (€)\",\n",
        "                   \"Energia (kWh)\", \"Custo Energia (€)\",\n",
        "                   \"Gás (m³)\", \"Custo Gás (€)\"]\n",
        "        linhas = []\n",
        "\n",
        "        for casa in self.casas.values():\n",
        "            agua_valor, agua_custo = casa.total_por_tipo('agua')\n",
        "            energia_valor, energia_custo = casa.total_por_tipo('energia')\n",
        "            gas_valor, gas_custo = casa.total_por_tipo('gas')\n",
        "\n",
        "            linhas.append([\n",
        "                casa.id,\n",
        "                casa.morada,\n",
        "                casa.certificado_energetico,\n",
        "                f\"{agua_valor:.2f}\", f\"{agua_custo:.2f}\",\n",
        "                f\"{energia_valor:.2f}\", f\"{energia_custo:.2f}\",\n",
        "                f\"{gas_valor:.2f}\", f\"{gas_custo:.2f}\"\n",
        "            ])\n",
        "\n",
        "        print(\"\\n\" + \"=\"*100)\n",
        "        print(\"RELATÓRIO GERAL DE CONSUMOS\".center(100))\n",
        "        print(\"=\"*100)\n",
        "        print(tabulate(linhas, headers=headers, tablefmt=\"grid\"))\n",
        "\n",
        "    def gerar_relatorio_individual(self):\n",
        "        for casa in self.casas.values():\n",
        "            info, agua, energia, gas = casa.gerar_relatorio()\n",
        "            self.tabelas.cabecalho(f\"RELATÓRIO DA CASA {casa.id}\")\n",
        "            self.tabelas.tabela_info_casa(info)\n",
        "\n",
        "            for tipo_nome, dados in [('ÁGUA', agua), ('ENERGIA', energia), ('GÁS', gas)]:\n",
        "                self.tabelas.cabecalho(f\"CONSUMO DE {tipo_nome}\")\n",
        "                self.tabelas.tabela_consumo(dados)\n",
        "\n",
        "            self.tabelas.cabecalho(\"PERÍODO DE MAIOR GASTO\")\n",
        "            print(f\"Água: {casa.periodo_maior_gasto('agua')}\")\n",
        "            print(f\"Energia: {casa.periodo_maior_gasto('energia')}\")\n",
        "            print(f\"Gás: {casa.periodo_maior_gasto('gas')}\")\n",
        "            print()\n",
        "\n",
        "    def verificar_integridade(self):\n",
        "        print(\"\\n\" + \"=\"*100)\n",
        "        print(\"VERIFICAÇÃO DE INTEGRIDADE\".center(100))\n",
        "        print(\"=\"*100)\n",
        "        problemas = 0\n",
        "\n",
        "        for casa in self.casas.values():\n",
        "            if casa.certificado_energetico not in [\"A+\", \"A\", \"B\", \"B-\", \"C\", \"D\", \"E\", \"F\", \"G\"]:\n",
        "                print(f\"[ERRO] Casa {casa.id}: Certificado energético inválido\")\n",
        "                problemas += 1\n",
        "\n",
        "            for tipo in ['agua', 'energia', 'gas']:\n",
        "                for c in getattr(casa, f'consumo_{tipo}'):\n",
        "                    if c['Valor'] <= 0 or c['Custo'] <= 0:\n",
        "                        print(f\"[ERRO] Casa {casa.id} - {tipo.upper()} ({c['Periodo']}): Valor ou custo inválido\")\n",
        "                        problemas += 1\n",
        "\n",
        "        if problemas == 0:\n",
        "            print(\"✅ Todos os dados estão válidos e consistentes.\")\n",
        "        else:\n",
        "            print(f\"⚠️ Foram encontrados {problemas} problema(s) nos dados.\")\n"
      ],
      "metadata": {
        "id": "M5g9yof6XFh7"
      },
      "execution_count": null,
      "outputs": []
    },
    {
      "cell_type": "code",
      "source": [
        "class GeradorTabelas:\n",
        "    @staticmethod\n",
        "    def cabecalho(titulo, largura=100):\n",
        "        print(\"\\n\" + \"=\" * largura)\n",
        "        print(titulo.center(largura))\n",
        "        print(\"=\" * largura)\n",
        "\n",
        "    @staticmethod\n",
        "    def tabela_info_casa(info):\n",
        "        print(tabulate(info, tablefmt=\"fancy_grid\"))\n",
        "\n",
        "    @staticmethod\n",
        "    def tabela_consumo(consumos):\n",
        "        if not consumos:\n",
        "            print(\"Sem registros.\")\n",
        "            return\n",
        "\n",
        "        dados = []\n",
        "        for c in consumos:\n",
        "            valor_str = f\"{c['Valor']:.2f} {c['Unidade']}\"\n",
        "            custo_str = f\"{c['Custo']:.2f} €\"\n",
        "            dados.append([c['Periodo'], valor_str, custo_str])\n",
        "\n",
        "        print(tabulate(dados, headers=[\"Período\", \"Consumo\", \"Custo\"], tablefmt=\"grid\"))\n"
      ],
      "metadata": {
        "id": "aAF8HwvcXorj"
      },
      "execution_count": null,
      "outputs": []
    },
    {
      "cell_type": "code",
      "source": [
        "class Validador:\n",
        "    @staticmethod\n",
        "    def validar_casa(id, latitude, longitude, certificado):\n",
        "        if not id or not isinstance(id, str):\n",
        "            print(\"Erro: ID inválido\")\n",
        "            return False\n",
        "        if not (-90 <= latitude <= 90) or not (-180 <= longitude <= 180):\n",
        "            print(\"Erro: Coordenadas inválidas\")\n",
        "            return False\n",
        "        if certificado not in [\"A+\", \"A\", \"B\", \"B-\", \"C\", \"D\", \"E\", \"F\", \"G\"]:\n",
        "            print(f\"Erro: Certificado '{certificado}' inválido\")\n",
        "            return False\n",
        "        return True\n",
        "\n",
        "    @staticmethod\n",
        "    def validar_consumo(tipo, periodo, valor, custo):\n",
        "        if tipo not in ['agua', 'energia', 'gas']:\n",
        "            print(f\"Erro: Tipo '{tipo}' inválido\")\n",
        "            return False\n",
        "        try:\n",
        "            mes, ano = map(int, periodo.split(\"/\"))\n",
        "            if not (1 <= mes <= 12) or not (2000 <= ano <= 2100):\n",
        "                raise ValueError\n",
        "        except:\n",
        "            print(\"Erro: Período inválido (use MM/AAAA)\")\n",
        "            return False\n",
        "        if valor <= 0 or custo <= 0:\n",
        "            return False\n",
        "        return True\n"
      ],
      "metadata": {
        "id": "NxARZKeVXtaO"
      },
      "execution_count": null,
      "outputs": []
    },
    {
      "cell_type": "code",
      "source": [
        "if __name__ == '__main__':\n",
        "    sistema = ControladorCasas()\n",
        "\n",
        "    sistema.adicionar_casa(\"001\", 41.1578, -8.6299, \"Rua do Porto 123\", \"A+\", \"Casa Central\")\n",
        "    sistema.adicionar_casa(\"002\", 41.1495, -8.6108, \"Avenida da Liberdade 456\", \"B\", \"Apartamento\")\n",
        "\n",
        "    sistema.registrar_consumo(\"001\", \"agua\", \"01/2025\", 15000, 45.75)\n",
        "    sistema.registrar_consumo(\"001\", \"energia\", \"01/2025\", 350, 120.50)\n",
        "    sistema.registrar_consumo(\"001\", \"gas\", \"01/2025\", 12.5, 35.90)\n",
        "\n",
        "    sistema.registrar_consumo(\"002\", \"agua\", \"02/2025\", 18000, 50.00)\n",
        "    sistema.registrar_consumo(\"002\", \"energia\", \"02/2025\", 400, -130.00)\n",
        "    sistema.registrar_consumo(\"002\", \"gas\", \"02/2025\", 14, -37.90)\n",
        "\n",
        "    #Erros\n",
        "    sistema.registrar_consumo(\"001\", \"energia\", \"01/2025\", -100, 100)\n",
        "    sistema.registrar_consumo(\"001\", \"gas\", \"01/2025\", 10, -30)\n",
        "    sistema.adicionar_casa(\"001\", 41.15, -8.62, \"Rua da Liberdade\", \"A+\", \"Casa Principal\")\n",
        "    sistema.adicionar_casa(\"002\", 41.12, -8.63, \"Rua das Flores\", \"B\", \"Casa Secundária\")\n",
        "    sistema.adicionar_casa(\"003\", 41.10, -8.60, \"Rua dos Erros\", \"X\", \"Casa com Certificado Inválido\")\n",
        "    sistema.adicionar_casa(\"004\", 95.00, -200.00, \"Coordenada Errada\", \"C\", \"Casa com Coordenadas Inválidas\")\n",
        "    sistema.registrar_consumo(\"001\", \"agua\", \"01/2025\", 10000, 50)\n",
        "    sistema.registrar_consumo(\"001\", \"energia\", \"01/2025\", 300, 120)\n",
        "    sistema.registrar_consumo(\"001\", \"gas\", \"01/2025\", 15, 40)\n",
        "\n",
        "    sistema.registrar_consumo(\"002\", \"agua\", \"01/2025\", -5000, 25)\n",
        "    sistema.registrar_consumo(\"002\", \"energia\", \"01/2025\", 350, -50)\n",
        "    sistema.registrar_consumo(\"002\", \"gas\", \"01/2025\", 10, 0)\n",
        "    sistema.registrar_consumo(\"001\", \"agua\", \"13/2025\", 5000, 30)\n",
        "    sistema.registrar_consumo(\"001\", \"madeira\", \"01/2025\", 100, 20)\n",
        "    sistema.registrar_consumo(\"001\", \"agua\", \"01/2025\", 20000, 100)\n",
        "\n"
      ],
      "metadata": {
        "colab": {
          "base_uri": "https://localhost:8080/"
        },
        "id": "6t5RIkmLSGYV",
        "outputId": "4589da8e-c560-44e9-c858-0ec716237e22"
      },
      "execution_count": null,
      "outputs": [
        {
          "output_type": "stream",
          "name": "stdout",
          "text": [
            "Atenção: dados inválidos foram inseridos em ENERGIA - 02/2025, mas serão registrados.\n",
            "Atenção: dados inválidos foram inseridos em GAS - 02/2025, mas serão registrados.\n",
            "Atenção: dados inválidos foram inseridos em ENERGIA - 01/2025, mas serão registrados.\n",
            "Erro: Já existe consumo de energia para 01/2025\n",
            "Atenção: dados inválidos foram inseridos em GAS - 01/2025, mas serão registrados.\n",
            "Erro: Já existe consumo de gas para 01/2025\n",
            "Erro: Casa 001 já existe!\n",
            "Erro: Casa 002 já existe!\n",
            "Erro: Certificado 'X' inválido\n",
            "Erro: Coordenadas inválidas\n",
            "Erro: Já existe consumo de agua para 01/2025\n",
            "Erro: Já existe consumo de energia para 01/2025\n",
            "Erro: Já existe consumo de gas para 01/2025\n",
            "Atenção: dados inválidos foram inseridos em AGUA - 01/2025, mas serão registrados.\n",
            "Atenção: dados inválidos foram inseridos em ENERGIA - 01/2025, mas serão registrados.\n",
            "Atenção: dados inválidos foram inseridos em GAS - 01/2025, mas serão registrados.\n",
            "Erro: Período inválido (use MM/AAAA)\n",
            "Atenção: dados inválidos foram inseridos em AGUA - 13/2025, mas serão registrados.\n",
            "Erro: Tipo 'madeira' inválido\n",
            "Atenção: dados inválidos foram inseridos em MADEIRA - 01/2025, mas serão registrados.\n",
            "Erro: Tipo de consumo 'madeira' inválido!\n",
            "Erro: Já existe consumo de agua para 01/2025\n"
          ]
        }
      ]
    },
    {
      "cell_type": "code",
      "source": [
        "sistema.gerar_relatorio_geral()"
      ],
      "metadata": {
        "id": "6O6oQMRzSMc7",
        "colab": {
          "base_uri": "https://localhost:8080/"
        },
        "outputId": "62c084e2-ed29-458f-8060-c895ce3c4f04"
      },
      "execution_count": null,
      "outputs": [
        {
          "output_type": "stream",
          "name": "stdout",
          "text": [
            "\n",
            "====================================================================================================\n",
            "                                    RELATÓRIO GERAL DE CONSUMOS                                     \n",
            "====================================================================================================\n",
            "+------+--------------------------+---------------+------------+------------------+-----------------+---------------------+------------+-----------------+\n",
            "|   ID | Morada                   | Certificado   |   Água (L) |   Custo Água (€) |   Energia (kWh) |   Custo Energia (€) |   Gás (m³) |   Custo Gás (€) |\n",
            "+======+==========================+===============+============+==================+=================+=====================+============+=================+\n",
            "|  001 | Rua do Porto 123         | A+            |      20000 |            75.75 |             350 |               120.5 |       12.5 |            35.9 |\n",
            "+------+--------------------------+---------------+------------+------------------+-----------------+---------------------+------------+-----------------+\n",
            "|  002 | Avenida da Liberdade 456 | B             |      13000 |            75    |             750 |              -180   |       24   |           -37.9 |\n",
            "+------+--------------------------+---------------+------------+------------------+-----------------+---------------------+------------+-----------------+\n"
          ]
        }
      ]
    },
    {
      "cell_type": "code",
      "source": [
        "sistema.gerar_relatorio_individual()"
      ],
      "metadata": {
        "colab": {
          "base_uri": "https://localhost:8080/"
        },
        "id": "rnRRVP1a8K0E",
        "outputId": "4ecfdaec-f104-4787-8495-d05178c1d88b"
      },
      "execution_count": null,
      "outputs": [
        {
          "output_type": "stream",
          "name": "stdout",
          "text": [
            "\n",
            "====================================================================================================\n",
            "                                       RELATÓRIO DA CASA 001                                        \n",
            "====================================================================================================\n",
            "╒═════════════╤══════════════════╕\n",
            "│ ID          │ 001              │\n",
            "├─────────────┼──────────────────┤\n",
            "│ Descrição   │ Casa Central     │\n",
            "├─────────────┼──────────────────┤\n",
            "│ Morada      │ Rua do Porto 123 │\n",
            "├─────────────┼──────────────────┤\n",
            "│ Certificado │ A+               │\n",
            "├─────────────┼──────────────────┤\n",
            "│ Localização │ 41.1578, -8.6299 │\n",
            "╘═════════════╧══════════════════╛\n",
            "\n",
            "====================================================================================================\n",
            "                                          CONSUMO DE ÁGUA                                           \n",
            "====================================================================================================\n",
            "+-----------+------------+---------+\n",
            "| Período   | Consumo    | Custo   |\n",
            "+===========+============+=========+\n",
            "| 01/2025   | 15000.00 L | 45.75 € |\n",
            "+-----------+------------+---------+\n",
            "| 13/2025   | 5000.00 L  | 30.00 € |\n",
            "+-----------+------------+---------+\n",
            "\n",
            "====================================================================================================\n",
            "                                         CONSUMO DE ENERGIA                                         \n",
            "====================================================================================================\n",
            "+-----------+------------+----------+\n",
            "| Período   | Consumo    | Custo    |\n",
            "+===========+============+==========+\n",
            "| 01/2025   | 350.00 kWh | 120.50 € |\n",
            "+-----------+------------+----------+\n",
            "\n",
            "====================================================================================================\n",
            "                                           CONSUMO DE GÁS                                           \n",
            "====================================================================================================\n",
            "+-----------+-----------+---------+\n",
            "| Período   | Consumo   | Custo   |\n",
            "+===========+===========+=========+\n",
            "| 01/2025   | 12.50 m³  | 35.90 € |\n",
            "+-----------+-----------+---------+\n",
            "\n",
            "====================================================================================================\n",
            "                                       PERÍODO DE MAIOR GASTO                                       \n",
            "====================================================================================================\n",
            "Água: 01/2025\n",
            "Energia: 01/2025\n",
            "Gás: 01/2025\n",
            "\n",
            "\n",
            "====================================================================================================\n",
            "                                       RELATÓRIO DA CASA 002                                        \n",
            "====================================================================================================\n",
            "╒═════════════╤══════════════════════════╕\n",
            "│ ID          │ 002                      │\n",
            "├─────────────┼──────────────────────────┤\n",
            "│ Descrição   │ Apartamento              │\n",
            "├─────────────┼──────────────────────────┤\n",
            "│ Morada      │ Avenida da Liberdade 456 │\n",
            "├─────────────┼──────────────────────────┤\n",
            "│ Certificado │ B                        │\n",
            "├─────────────┼──────────────────────────┤\n",
            "│ Localização │ 41.1495, -8.6108         │\n",
            "╘═════════════╧══════════════════════════╛\n",
            "\n",
            "====================================================================================================\n",
            "                                          CONSUMO DE ÁGUA                                           \n",
            "====================================================================================================\n",
            "+-----------+------------+---------+\n",
            "| Período   | Consumo    | Custo   |\n",
            "+===========+============+=========+\n",
            "| 02/2025   | 18000.00 L | 50.00 € |\n",
            "+-----------+------------+---------+\n",
            "| 01/2025   | -5000.00 L | 25.00 € |\n",
            "+-----------+------------+---------+\n",
            "\n",
            "====================================================================================================\n",
            "                                         CONSUMO DE ENERGIA                                         \n",
            "====================================================================================================\n",
            "+-----------+------------+-----------+\n",
            "| Período   | Consumo    | Custo     |\n",
            "+===========+============+===========+\n",
            "| 02/2025   | 400.00 kWh | -130.00 € |\n",
            "+-----------+------------+-----------+\n",
            "| 01/2025   | 350.00 kWh | -50.00 €  |\n",
            "+-----------+------------+-----------+\n",
            "\n",
            "====================================================================================================\n",
            "                                           CONSUMO DE GÁS                                           \n",
            "====================================================================================================\n",
            "+-----------+-----------+----------+\n",
            "| Período   | Consumo   | Custo    |\n",
            "+===========+===========+==========+\n",
            "| 02/2025   | 14.00 m³  | -37.90 € |\n",
            "+-----------+-----------+----------+\n",
            "| 01/2025   | 10.00 m³  | 0.00 €   |\n",
            "+-----------+-----------+----------+\n",
            "\n",
            "====================================================================================================\n",
            "                                       PERÍODO DE MAIOR GASTO                                       \n",
            "====================================================================================================\n",
            "Água: 02/2025\n",
            "Energia: 01/2025\n",
            "Gás: 01/2025\n",
            "\n"
          ]
        }
      ]
    },
    {
      "cell_type": "code",
      "source": [
        "sistema.listar_consumo(\"001\", \"energia\")"
      ],
      "metadata": {
        "colab": {
          "base_uri": "https://localhost:8080/"
        },
        "id": "uRyOFJErN6nc",
        "outputId": "281c3f5d-e948-4005-83a1-ceb94bc50502"
      },
      "execution_count": null,
      "outputs": [
        {
          "output_type": "stream",
          "name": "stdout",
          "text": [
            "\n",
            "====================================================================================================\n",
            "                                   CONSUMO DE ENERGIA - CASA 001                                    \n",
            "====================================================================================================\n",
            "+-----------+------------+----------+\n",
            "| Período   | Consumo    | Custo    |\n",
            "+===========+============+==========+\n",
            "| 01/2025   | 350.00 kWh | 120.50 € |\n",
            "+-----------+------------+----------+\n"
          ]
        },
        {
          "output_type": "execute_result",
          "data": {
            "text/plain": [
              "True"
            ]
          },
          "metadata": {},
          "execution_count": 9
        }
      ]
    },
    {
      "cell_type": "code",
      "source": [
        "sistema.listar_consumo(\"001\", \"agua\")"
      ],
      "metadata": {
        "id": "eBTQYr0MMvHc",
        "outputId": "03a89ce0-95e4-4633-d2d5-cfc66e444eb1",
        "colab": {
          "base_uri": "https://localhost:8080/"
        }
      },
      "execution_count": null,
      "outputs": [
        {
          "output_type": "stream",
          "name": "stdout",
          "text": [
            "\n",
            "====================================================================================================\n",
            "                                     CONSUMO DE AGUA - CASA 001                                     \n",
            "====================================================================================================\n",
            "+-----------+------------+---------+\n",
            "| Período   | Consumo    | Custo   |\n",
            "+===========+============+=========+\n",
            "| 01/2025   | 15000.00 L | 45.75 € |\n",
            "+-----------+------------+---------+\n",
            "| 13/2025   | 5000.00 L  | 30.00 € |\n",
            "+-----------+------------+---------+\n"
          ]
        },
        {
          "output_type": "execute_result",
          "data": {
            "text/plain": [
              "True"
            ]
          },
          "metadata": {},
          "execution_count": 10
        }
      ]
    },
    {
      "cell_type": "code",
      "source": [
        "sistema.listar_consumo(\"002\", \"gas\")"
      ],
      "metadata": {
        "colab": {
          "base_uri": "https://localhost:8080/"
        },
        "id": "0IAKAAkjNA8Y",
        "outputId": "6b9e308e-280a-4012-9c06-a28c0699f75d"
      },
      "execution_count": null,
      "outputs": [
        {
          "output_type": "stream",
          "name": "stdout",
          "text": [
            "\n",
            "====================================================================================================\n",
            "                                     CONSUMO DE GAS - CASA 002                                      \n",
            "====================================================================================================\n",
            "+-----------+-----------+----------+\n",
            "| Período   | Consumo   | Custo    |\n",
            "+===========+===========+==========+\n",
            "| 02/2025   | 14.00 m³  | -37.90 € |\n",
            "+-----------+-----------+----------+\n",
            "| 01/2025   | 10.00 m³  | 0.00 €   |\n",
            "+-----------+-----------+----------+\n"
          ]
        },
        {
          "output_type": "execute_result",
          "data": {
            "text/plain": [
              "True"
            ]
          },
          "metadata": {},
          "execution_count": 11
        }
      ]
    },
    {
      "cell_type": "code",
      "source": [
        "sistema.verificar_integridade()"
      ],
      "metadata": {
        "colab": {
          "base_uri": "https://localhost:8080/"
        },
        "id": "4m93j8Gpd3Wt",
        "outputId": "c01e0552-c57d-4ed5-8276-6fe21e52f336"
      },
      "execution_count": null,
      "outputs": [
        {
          "output_type": "stream",
          "name": "stdout",
          "text": [
            "\n",
            "====================================================================================================\n",
            "                                     VERIFICAÇÃO DE INTEGRIDADE                                     \n",
            "====================================================================================================\n",
            "[ERRO] Casa 002 - AGUA (01/2025): Valor ou custo inválido\n",
            "[ERRO] Casa 002 - ENERGIA (02/2025): Valor ou custo inválido\n",
            "[ERRO] Casa 002 - ENERGIA (01/2025): Valor ou custo inválido\n",
            "[ERRO] Casa 002 - GAS (02/2025): Valor ou custo inválido\n",
            "[ERRO] Casa 002 - GAS (01/2025): Valor ou custo inválido\n",
            "⚠️ Foram encontrados 5 problema(s) nos dados.\n"
          ]
        }
      ]
    },
    {
      "cell_type": "code",
      "source": [],
      "metadata": {
        "id": "h71EsXdCTjak"
      },
      "execution_count": null,
      "outputs": []
    }
  ]
}